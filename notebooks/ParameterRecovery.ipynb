{
 "cells": [
  {
   "cell_type": "code",
   "execution_count": 1,
   "metadata": {},
   "outputs": [],
   "source": [
    "import numpy as np\n",
    "import pandas as pd\n",
    "import matplotlib.pyplot as plt\n",
    "%matplotlib inline\n",
    "import torch\n",
    "import seaborn as sns\n",
    "from tqdm import tqdm\n",
    "sns.set(style='white', context='talk', palette='colorblind')\n",
    "\n",
    "from behavior_model_fitting.helpers.policy import softmax "
   ]
  },
  {
   "cell_type": "code",
   "execution_count": 2,
   "metadata": {},
   "outputs": [],
   "source": [
    "# load data\n",
    "data=pd.read_pickle('../data/BernoulliBanditData.pickel')#, converters={'outcomes':converter})"
   ]
  },
  {
   "cell_type": "raw",
   "metadata": {},
   "source": [
    "tqdm._instances.clear()"
   ]
  },
  {
   "cell_type": "markdown",
   "metadata": {},
   "source": [
    "# Bayesian Hyperparameter Search for learning model parameters"
   ]
  },
  {
   "cell_type": "raw",
   "metadata": {},
   "source": [
    "References: https://towardsdatascience.com/design-optimization-with-ax-in-python-957b1fec776f"
   ]
  },
  {
   "cell_type": "markdown",
   "metadata": {},
   "source": [
    "## per subject"
   ]
  },
  {
   "cell_type": "code",
   "execution_count": 3,
   "metadata": {},
   "outputs": [],
   "source": [
    "import ax\n",
    "from behavior_model_fitting.models import Qlearner\n",
    "# from ax.plot.contour import plot_contour\n",
    "# from ax.plot.trace import optimization_trace_single_method\n",
    "from ax.service.managed_loop import optimize"
   ]
  },
  {
   "cell_type": "code",
   "execution_count": 4,
   "metadata": {},
   "outputs": [],
   "source": [
    "n_trials = 1000\n",
    "n_iters = 10\n",
    "subj=0\n",
    "n_subjects = 1\n",
    "n_options = 2\n",
    "outcomes = data.outcomes[:n_subjects]\n",
    "actions = torch.as_tensor(data.actions).type(torch.LongTensor)\n",
    "Qinit = [0.5, 0.5]\n",
    "nll_loss = torch.nn.NLLLoss(reduction='sum')\n",
    "R = torch.nn.functional.one_hot(torch.arange(n_options), num_classes=n_options)"
   ]
  },
  {
   "cell_type": "code",
   "execution_count": 7,
   "metadata": {},
   "outputs": [],
   "source": [
    "def compute_nll_per_subject(parameters):\n",
    "    model = Qlearner(**parameters)\n",
    "    q = model.Qinit\n",
    "    #print(model.lr, model.beta)\n",
    "    log_softmax = []\n",
    "    \n",
    "    for trial in range(n_trials):\n",
    "        a_t = actions[subj][trial]\n",
    "        log_softmax.append(model.log_softmax(q))\n",
    "        r_t = R[a_t]*outcomes[subj][trial][a_t]\n",
    "        q = model(r_t, Q=q)\n",
    "\n",
    "    log_softmax = torch.stack(log_softmax)\n",
    "    loss = nll_loss(log_softmax, actions[subj])\n",
    "    return float(loss.data.numpy())"
   ]
  },
  {
   "cell_type": "code",
   "execution_count": 8,
   "metadata": {},
   "outputs": [
    {
     "name": "stderr",
     "output_type": "stream",
     "text": [
      "[INFO 05-05 13:33:09] ax.modelbridge.dispatch_utils: Using Bayesian Optimization generation strategy: GenerationStrategy(name='Sobol+GPEI', steps=[Sobol for 5 trials, GPEI for subsequent trials]). Iterations after 5 will take longer to generate due to  model-fitting.\n",
      "[INFO 05-05 13:33:09] ax.service.managed_loop: Started full optimization with 10 steps.\n",
      "[INFO 05-05 13:33:09] ax.service.managed_loop: Running optimization trial 1...\n",
      "[INFO 05-05 13:33:09] ax.service.managed_loop: Running optimization trial 2...\n",
      "[INFO 05-05 13:33:09] ax.service.managed_loop: Running optimization trial 3...\n",
      "[INFO 05-05 13:33:09] ax.service.managed_loop: Running optimization trial 4...\n",
      "[INFO 05-05 13:33:09] ax.service.managed_loop: Running optimization trial 5...\n",
      "[INFO 05-05 13:33:09] ax.service.managed_loop: Running optimization trial 6...\n",
      "[INFO 05-05 13:33:11] ax.service.managed_loop: Running optimization trial 7...\n",
      "[INFO 05-05 13:33:14] ax.service.managed_loop: Running optimization trial 8...\n",
      "[INFO 05-05 13:33:17] ax.service.managed_loop: Running optimization trial 9...\n",
      "[INFO 05-05 13:33:20] ax.service.managed_loop: Running optimization trial 10...\n"
     ]
    }
   ],
   "source": [
    "best_parameters, values, experiment, model = optimize(\n",
    "    parameters=[\n",
    "        {\"name\": \"lr\", \"type\": \"range\", \"bounds\": [0.01, 1.], 'value_type':'float', \"log_scale\": True},\n",
    "        {\"name\": \"beta\", \"type\": \"range\", 'value_type':'float', \"bounds\": [1e-1, 20.]}\n",
    "    ],\n",
    "    evaluation_function=compute_nll_per_subject,\n",
    "    objective_name='nll',\n",
    "    total_trials=n_iters, minimize=True\n",
    ")"
   ]
  },
  {
   "cell_type": "code",
   "execution_count": 9,
   "metadata": {},
   "outputs": [
    {
     "data": {
      "image/png": "[encoded data removed]",
      "text/plain": [
       "<Figure size 500x500 with 1 Axes>"
      ]
     },
     "metadata": {},
     "output_type": "display_data"
    }
   ],
   "source": [
    "fig, ax = plt.subplots(1, 1, figsize=(5, 5), dpi=100)\n",
    "ax.scatter(data.loc[subj].true_lr, data.loc[subj].true_beta, c='green', marker='*', s=100)\n",
    "ax.scatter(best_parameters['lr'], best_parameters['beta'], c='red', marker='*', s=100)\n",
    "ax.set_xlim([-0.05, 1.05])\n",
    "ax.set_ylim([0., 20.5])\n",
    "ax.set_ylabel(ylabel='beta', fontsize=15)\n",
    "ax.set_xlabel(xlabel='lr', fontsize=15)\n",
    "plt.show()"
   ]
  },
  {
   "cell_type": "raw",
   "metadata": {},
   "source": []
  },
  {
   "cell_type": "markdown",
   "metadata": {},
   "source": [
    "## population fits"
   ]
  },
  {
   "cell_type": "raw",
   "metadata": {},
   "source": [
    "for subj in range(n_subjects):\n",
    "    model.__init__()\n",
    "    # BayesOpt"
   ]
  },
  {
   "cell_type": "raw",
   "metadata": {},
   "source": []
  },
  {
   "cell_type": "markdown",
   "metadata": {},
   "source": [
    "# Minimize negative log-likelihoood using gradient descent"
   ]
  },
  {
   "cell_type": "code",
   "execution_count": 10,
   "metadata": {},
   "outputs": [],
   "source": [
    "from behavior_model_fitting.models import Qlearner\n",
    "import torch.nn as nn\n",
    "import torch.optim as optim\n",
    "from behavior_model_fitting.helpers.measures import nll_per_model_per_subject"
   ]
  },
  {
   "cell_type": "markdown",
   "metadata": {},
   "source": [
    "## recovery of model parameters per subject"
   ]
  },
  {
   "cell_type": "code",
   "execution_count": 24,
   "metadata": {},
   "outputs": [],
   "source": [
    "n_epochs = 100\n",
    "n_trials = 1000\n",
    "Q_init = [0., 0.]\n",
    "model = Qlearner(Qinit=Q_init, beta=5.)\n",
    "nll_loss = torch.nn.NLLLoss()\n",
    "SUBJ = 0\n",
    "outcomes = data.outcomes[SUBJ]\n",
    "actions = torch.as_tensor(data.actions[SUBJ].astype('int'))#[:10]\n",
    "optimizer = optim.Adam(model.parameters(), lr=0.001)    \n",
    "R = torch.nn.functional.one_hot(torch.arange(2),num_classes=2)"
   ]
  },
  {
   "cell_type": "code",
   "execution_count": 25,
   "metadata": {},
   "outputs": [
    {
     "name": "stdout",
     "output_type": "stream",
     "text": [
      "initial parameters: lr 0.009999999776482582, beta 5.0\n"
     ]
    }
   ],
   "source": [
    "print('initial parameters: lr {}, beta {}'.format(model.lr.data, model.beta.data))"
   ]
  },
  {
   "cell_type": "markdown",
   "metadata": {},
   "source": [
    "### Choosing a loss function\n",
    "1. NLL - helps find parameters which result in matching subject behavior\n",
    "2. MSE - used to find parameters which result in highest reward per trial\n",
    "3. Cross-entropy - improve classification or choosing arm probability"
   ]
  },
  {
   "cell_type": "code",
   "execution_count": 26,
   "metadata": {},
   "outputs": [],
   "source": [
    "for epoch in range(n_epochs):\n",
    "    # epochs\n",
    "    q = model.Qinit\n",
    "    log_softmax = []\n",
    "    for trial in range(n_trials):\n",
    "    # trials\n",
    "        a_t = actions[trial]\n",
    "        log_softmax.append(model.log_softmax(q))\n",
    "        r_t = R[a_t]*outcomes[trial][a_t]\n",
    "        q = model(r_t, Q=q)\n",
    "       \n",
    "    log_softmax = torch.stack(log_softmax)\n",
    "    loss = nll_loss(log_softmax, actions)\n",
    "    loss.backward()\n",
    "    optimizer.step()\n",
    "    optimizer.zero_grad()"
   ]
  },
  {
   "cell_type": "code",
   "execution_count": 27,
   "metadata": {},
   "outputs": [
    {
     "name": "stdout",
     "output_type": "stream",
     "text": [
      "true parameters: lr 0.0793807787701838, beta 5.4926469042339745\n",
      "fit parameters: lr 0.0551292710006237, beta 4.892154216766357\n",
      "NLL 26.937976837158203\n"
     ]
    }
   ],
   "source": [
    "print('true parameters: lr {}, beta {}'.format(data.loc[SUBJ].true_lr, data.loc[SUBJ].true_beta))\n",
    "print('fit parameters: lr {}, beta {}'.format(model.lr.data, model.beta.data))\n",
    "NLL, qvalues = nll_per_model_per_subject(outcomes, torch.tensor(Q_init), model.lr.data, model.beta.data, actions)\n",
    "print('NLL {}'.format(NLL))"
   ]
  },
  {
   "cell_type": "code",
   "execution_count": 28,
   "metadata": {},
   "outputs": [
    {
     "data": {
      "image/png": "[encoded data removed]",
      "text/plain": [
       "<Figure size 500x500 with 1 Axes>"
      ]
     },
     "metadata": {},
     "output_type": "display_data"
    }
   ],
   "source": [
    "fig, ax = plt.subplots(1, 1, figsize=(5, 5), dpi=100)\n",
    "ax.scatter(data.loc[SUBJ].true_lr, data.loc[SUBJ].true_beta, c='green', marker='*', s=100)\n",
    "ax.scatter(model.lr.data, model.beta.data, c='red', marker='*', s=100)\n",
    "ax.set_xlim([-0.05, 1])\n",
    "ax.set_ylim([0., 10])\n",
    "ax.set_ylabel(ylabel='beta', fontsize=15)\n",
    "ax.set_xlabel(xlabel='lr', fontsize=15)\n",
    "plt.show()"
   ]
  },
  {
   "cell_type": "markdown",
   "metadata": {},
   "source": [
    "## recovery of model parameters for population"
   ]
  },
  {
   "cell_type": "raw",
   "metadata": {},
   "source": [
    "TODO:\n",
    "\n",
    "vectorize the model for population to take a batch of subjects"
   ]
  },
  {
   "cell_type": "code",
   "execution_count": 19,
   "metadata": {},
   "outputs": [],
   "source": [
    "n_epochs = 100\n",
    "n_trials = 1000\n",
    "n_subjects = 3\n",
    "n_options = 2\n",
    "\n",
    "outcomes = data.outcomes[:n_subjects]\n",
    "actions = torch.as_tensor(data.actions).type(torch.LongTensor)\n",
    "Q_init = [0.5, 0.5]\n",
    "optim_lr = 0.001\n",
    "model = Qlearner(Qinit=Q_init)\n",
    "\n",
    "nll_loss = torch.nn.NLLLoss()\n",
    "optimizer = optim.Adam(model.parameters(), lr=optim_lr)    \n",
    "R = torch.nn.functional.one_hot(torch.arange(n_options), num_classes=n_options)\n",
    "lrs, betas = [], []"
   ]
  },
  {
   "cell_type": "code",
   "execution_count": 21,
   "metadata": {},
   "outputs": [
    {
     "name": "stderr",
     "output_type": "stream",
     "text": [
      "100%|██████████| 100/100 [00:14<00:00,  6.88it/s]\n",
      "100%|██████████| 100/100 [00:13<00:00,  7.60it/s]\n",
      "100%|██████████| 100/100 [00:13<00:00,  7.56it/s]\n"
     ]
    }
   ],
   "source": [
    "for subj in range(n_subjects):\n",
    "    model.__init__()\n",
    "    for epoch in tqdm(range(n_epochs)):\n",
    "        # number of epochs\n",
    "        q = model.Qinit\n",
    "        log_softmax = []\n",
    "        for trial in range(n_trials):\n",
    "        # number of trials\n",
    "            a_t = actions[subj][trial]\n",
    "            log_softmax.append(model.log_softmax(q))\n",
    "            r_t = R[a_t]*outcomes[subj][trial][a_t]\n",
    "            q = model(r_t, Q=q)\n",
    "\n",
    "        log_softmax = torch.stack(log_softmax)\n",
    "        loss = nll_loss(log_softmax, actions[subj])\n",
    "        loss.backward()\n",
    "        optimizer.step()\n",
    "        optimizer.zero_grad()\n",
    "    #print('fitted model to subject {} of {}'.format(subj+1, n_subjects))\n",
    "    lrs.append(model.lr.data)\n",
    "    betas.append(model.beta.data)"
   ]
  },
  {
   "cell_type": "code",
   "execution_count": 22,
   "metadata": {},
   "outputs": [],
   "source": [
    "lrs = torch.stack(lrs)\n",
    "betas = torch.stack(betas)"
   ]
  },
  {
   "cell_type": "code",
   "execution_count": 23,
   "metadata": {},
   "outputs": [
    {
     "data": {
      "image/png": "[encoded data removed]",
      "text/plain": [
       "<Figure size 500x500 with 1 Axes>"
      ]
     },
     "metadata": {},
     "output_type": "display_data"
    }
   ],
   "source": [
    "fig, ax = plt.subplots(1, 1, figsize=(5, 5), dpi=100)\n",
    "ax.scatter(data.loc[[0,1,2]].true_lr, data.loc[[0,1,2]].true_beta, c=['red', 'b', 'g'], marker='*', s=100)\n",
    "ax.scatter(lrs, betas, c=['red', 'b', 'g'], marker='o', s=100)\n",
    "ax.set_xlim([-0.05, 1])\n",
    "ax.set_ylim([0., 10])\n",
    "ax.set_ylabel(ylabel='beta', fontsize=15)\n",
    "ax.set_xlabel(xlabel='lr', fontsize=15)\n",
    "plt.show()"
   ]
  },
  {
   "cell_type": "raw",
   "metadata": {},
   "source": []
  },
  {
   "cell_type": "markdown",
   "metadata": {},
   "source": [
    " # Grid-search for parameter recovery"
   ]
  },
  {
   "cell_type": "markdown",
   "metadata": {},
   "source": [
    "### compute NLL per subj per paramter"
   ]
  },
  {
   "cell_type": "code",
   "execution_count": 29,
   "metadata": {},
   "outputs": [],
   "source": [
    "subj = 0\n",
    "lr = 0.01\n",
    "beta = 0.1\n",
    "outcome = data.outcomes[subj]\n",
    "choice = data.actions[subj].astype('int')\n",
    "action = data.actions[subj].astype('int')\n",
    "q_init = torch.as_tensor([0.5, 0.5]) #data.true_Qinit[subj])\n",
    "return_qvalues=True"
   ]
  },
  {
   "cell_type": "code",
   "execution_count": 10,
   "metadata": {},
   "outputs": [],
   "source": [
    "def nll_per_model_per_subject(outcomes, q, lr, beta, choice, ntrials=100, return_qvalues=False):\n",
    "    nll = 0.\n",
    "    qvalues = []\n",
    "    for trial in range(ntrials):\n",
    "        a_t = choice[trial]\n",
    "        nll += -(q[a_t]*beta - torch.log(torch.exp(q*beta).sum()))\n",
    "        r_t = outcomes[trial][a_t]\n",
    "        q[a_t] = q[a_t] + lr*(r_t-q[a_t])\n",
    "        qvalues.append(q.clone().detach())\n",
    "    if return_qvalues:\n",
    "        return nll\n",
    "    else:\n",
    "        return nll, qvalues"
   ]
  },
  {
   "cell_type": "code",
   "execution_count": 16,
   "metadata": {},
   "outputs": [],
   "source": [
    "NLL, qvalues = nll_per_model_per_subject(outcome, q_init, lr, beta, action, return_qvalues)"
   ]
  },
  {
   "cell_type": "markdown",
   "metadata": {},
   "source": [
    "### temporal development of q-values "
   ]
  },
  {
   "cell_type": "code",
   "execution_count": 17,
   "metadata": {},
   "outputs": [
    {
     "data": {
      "image/png": "[encoded data removed]",
      "text/plain": [
       "<Figure size 500x500 with 1 Axes>"
      ]
     },
     "metadata": {},
     "output_type": "display_data"
    }
   ],
   "source": [
    "fig, ax = plt.subplots(1,1,figsize=(5,5), dpi=100)\n",
    "plt.plot(torch.stack(qvalues).data.numpy())\n",
    "plt.show()"
   ]
  },
  {
   "cell_type": "markdown",
   "metadata": {},
   "source": [
    "Note: While computing the gradient for negative log-likelihood (NLL), it is important to note that gradient of NLL wrt learning rate resets to 0 everytime the agents switches action. "
   ]
  },
  {
   "cell_type": "raw",
   "metadata": {},
   "source": []
  },
  {
   "cell_type": "markdown",
   "metadata": {},
   "source": [
    "### compute NLL per subj per model across parameters"
   ]
  },
  {
   "cell_type": "code",
   "execution_count": 29,
   "metadata": {},
   "outputs": [],
   "source": [
    "from matplotlib.colors import LogNorm, SymLogNorm"
   ]
  },
  {
   "cell_type": "code",
   "execution_count": 30,
   "metadata": {},
   "outputs": [],
   "source": [
    "nparams = 100\n",
    "nsubj = 1\n",
    "beta_range = [0.01, 20]\n",
    "lr_range = [0.01, 1.]\n",
    "betas = np.linspace(beta_range[0], beta_range[1], nparams)\n",
    "lrs = np.linspace(lr_range[0], lr_range[1], nparams)\n",
    "NLLS = np.zeros((nsubj, nparams, nparams))"
   ]
  },
  {
   "cell_type": "code",
   "execution_count": 31,
   "metadata": {},
   "outputs": [],
   "source": [
    "def nll_per_model_per_subject(outcomes, q, lr, beta, choice, ntrials=100):\n",
    "    nll = 0.\n",
    "    qq = []\n",
    "    for trial in range(ntrials):\n",
    "        a_t = choice[trial]\n",
    "        nll += -(q[a_t]*beta - torch.log(torch.exp(q*beta).sum()))\n",
    "        r_t = outcomes[trial][a_t]\n",
    "        q[a_t] = q[a_t] + lr*(r_t-q[a_t])\n",
    "        \n",
    "    return nll"
   ]
  },
  {
   "cell_type": "code",
   "execution_count": 32,
   "metadata": {},
   "outputs": [],
   "source": [
    "for subj in range(nsubj):\n",
    "    for ix, lr in enumerate(lrs): \n",
    "        for iy, beta in enumerate(betas):\n",
    "            NLLS[subj, ix, iy] = nll_per_model_per_subject(data.outcomes[subj],torch.tensor(data.true_Qinit[subj]), lr, beta, data.actions[subj].astype('int'))"
   ]
  },
  {
   "cell_type": "code",
   "execution_count": 34,
   "metadata": {},
   "outputs": [
    {
     "name": "stdout",
     "output_type": "stream",
     "text": [
      "true parameters: lr 0.0793807787701838, beta 5.4926469042339745\n",
      "fit parameters: lr 0.19, beta 3.644545454545454\n",
      "NLL 19.86454200744629\n"
     ]
    }
   ],
   "source": [
    "SUBJ=0\n",
    "best_lr_idx, best_beta_idx =np.unravel_index(NLLS[SUBJ].argmin(), NLLS[SUBJ].shape)\n",
    "print('true parameters: lr {}, beta {}'.format(data.loc[SUBJ].true_lr, data.loc[SUBJ].true_beta))\n",
    "print('fit parameters: lr {}, beta {}'.format(lrs[best_beta_idx], betas[best_beta_idx]))\n",
    "print('NLL {}'.format(NLLS[SUBJ,best_lr_idx,best_beta_idx]))"
   ]
  },
  {
   "cell_type": "code",
   "execution_count": 35,
   "metadata": {},
   "outputs": [
    {
     "data": {
      "image/png": "[encoded data removed]",
      "text/plain": [
       "<Figure size 500x500 with 2 Axes>"
      ]
     },
     "metadata": {},
     "output_type": "display_data"
    }
   ],
   "source": [
    "fig, ax = plt.subplots(1, 1, figsize=(5, 5), dpi=100)\n",
    "im = ax.matshow(NLLS[SUBJ], cmap='gray_r', extent=[lr_range[0], lr_range[1], beta_range[0], beta_range[1]], aspect='auto',norm=LogNorm(vmin=NLLS[SUBJ].min(), vmax=NLLS[SUBJ].max()))\n",
    "ax.scatter(data.loc[SUBJ].true_lr, data.loc[SUBJ].true_beta, c='green', marker='*', s=100)\n",
    "ax.scatter(lrs[best_beta_idx], betas[best_beta_idx], c='red', marker='*', s=100)\n",
    "ax.set_ylabel(ylabel='beta', fontsize=15)\n",
    "ax.set_xlabel(xlabel='lr', fontsize=15)\n",
    "cbar=plt.colorbar(mappable=im, ax=ax)\n",
    "cbar.set_label('NLL', rotation=270, fontsize=15, labelpad=15)\n",
    "plt.show()"
   ]
  },
  {
   "cell_type": "raw",
   "metadata": {},
   "source": []
  },
  {
   "cell_type": "markdown",
   "metadata": {},
   "source": [
    "### compute NLL per subj across parameters (speed-up)"
   ]
  },
  {
   "cell_type": "markdown",
   "metadata": {},
   "source": [
    "TODO: \n",
    "- need to pass vector of parameters to the nll computer"
   ]
  },
  {
   "cell_type": "code",
   "execution_count": 220,
   "metadata": {},
   "outputs": [],
   "source": [
    "q=torch.tensor([[0.5, 0.5],[0.5, 0.5],[0.5, 0.5]])"
   ]
  },
  {
   "cell_type": "code",
   "execution_count": 221,
   "metadata": {},
   "outputs": [],
   "source": [
    "lr = torch.tensor([0.1, 0.5, 2]).reshape(-1,1)\n",
    "beta= torch.tensor([1, 2, 3]).reshape(-1,1)"
   ]
  },
  {
   "cell_type": "code",
   "execution_count": 249,
   "metadata": {},
   "outputs": [],
   "source": [
    "def nll_per_subject(outcomes, qq, lr, beta, choice, ntrials=1000):\n",
    "    nll = 0.\n",
    "    for trial in range(ntrials):\n",
    "        a_t = choice[trial]\n",
    "        nll += -(qq[:, a_t].reshape(-1,1)*beta - np.log(np.exp(qq*beta).sum(1)).reshape(-1,1))\n",
    "        r_t = outcomes[trial][a_t]\n",
    "        c = (qq[:, a_t].reshape(-1,1)+ (r_t-q[:, a_t]).reshape(-1,1)*lr).reshape(len(lr))\n",
    "        \n",
    "    return nll"
   ]
  },
  {
   "cell_type": "code",
   "execution_count": 252,
   "metadata": {},
   "outputs": [
    {
     "data": {
      "text/plain": [
       "tensor([[ 382.1781],\n",
       "        [ 182.5676],\n",
       "        [1539.0000]])"
      ]
     },
     "execution_count": 252,
     "metadata": {},
     "output_type": "execute_result"
    }
   ],
   "source": [
    "nll_per_subject(outcome, q, lr, beta, action)"
   ]
  },
  {
   "cell_type": "markdown",
   "metadata": {},
   "source": [
    "## confidence interval for parameters"
   ]
  },
  {
   "cell_type": "markdown",
   "metadata": {},
   "source": [
    "Note: too laborious to compute by hand but one potential way to do it would be tracking forward gradients"
   ]
  },
  {
   "cell_type": "code",
   "execution_count": null,
   "metadata": {},
   "outputs": [],
   "source": []
  }
 ],
 "metadata": {
  "kernelspec": {
   "display_name": "Python 3",
   "language": "python",
   "name": "python3"
  },
  "language_info": {
   "codemirror_mode": {
    "name": "ipython",
    "version": 3
   },
   "file_extension": ".py",
   "mimetype": "text/x-python",
   "name": "python",
   "nbconvert_exporter": "python",
   "pygments_lexer": "ipython3",
   "version": "3.8.0"
  }
 },
 "nbformat": 4,
 "nbformat_minor": 4
}
