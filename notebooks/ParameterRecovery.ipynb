{
 "cells": [
  {
   "cell_type": "markdown",
   "metadata": {},
   "source": [
    "## Negative Log-likelihood (NLL) approach per subject"
   ]
  },
  {
   "cell_type": "code",
   "execution_count": 5,
   "metadata": {},
   "outputs": [],
   "source": [
    "import numpy as np\n",
    "import pandas as pd\n",
    "import matplotlib.pyplot as plt\n",
    "%matplotlib inline\n",
    "import torch\n",
    "import seaborn as sns\n",
    "sns.set(style='white', context='talk', palette='colorblind')\n",
    "\n",
    "from behavior_model_fitting.helpers.policy import softmax, pick_action \n",
    "from behavior_model_fitting.tasks.BernoulliBandit import BernoulliBandit"
   ]
  },
  {
   "cell_type": "code",
   "execution_count": 6,
   "metadata": {},
   "outputs": [],
   "source": [
    "data=pd.read_pickle('../data/BernoulliBanditData.pickel')#, converters={'outcomes':converter})"
   ]
  },
  {
   "cell_type": "raw",
   "metadata": {},
   "source": []
  },
  {
   "cell_type": "markdown",
   "metadata": {},
   "source": [
    "### compute NLL per subj per paramter"
   ]
  },
  {
   "cell_type": "code",
   "execution_count": 197,
   "metadata": {},
   "outputs": [],
   "source": [
    "subj = 0\n",
    "lr = 0.001\n",
    "beta = 0.1\n",
    "outcome = data.outcomes[subj]\n",
    "choice = data.actions[subj].astype('int')\n",
    "action = data.actions[subj].astype('int')\n",
    "q_init = torch.as_tensor(data.true_Qinit[subj])"
   ]
  },
  {
   "cell_type": "code",
   "execution_count": 255,
   "metadata": {},
   "outputs": [],
   "source": [
    "def nll_per_model_per_subject(outcomes, q, lr, beta, choice, ntrials=1000):\n",
    "    nll = 0.\n",
    "    for trial in range(ntrials):\n",
    "        a_t = choice[trial]\n",
    "        nll += -(q[a_t]*beta - np.log(np.exp(q*beta).sum()))\n",
    "        r_t = outcomes[trial][a_t]\n",
    "        q[a_t] = q[a_t] + lr*(r_t-q[a_t])\n",
    "        \n",
    "    return nll"
   ]
  },
  {
   "cell_type": "code",
   "execution_count": 200,
   "metadata": {},
   "outputs": [],
   "source": [
    "NLL = nll_per_model_per_subject(outcome, q_init, lr, beta, action)"
   ]
  },
  {
   "cell_type": "raw",
   "metadata": {},
   "source": []
  },
  {
   "cell_type": "markdown",
   "metadata": {},
   "source": [
    "### compute NLL per subj per model across parameters"
   ]
  },
  {
   "cell_type": "code",
   "execution_count": 185,
   "metadata": {},
   "outputs": [],
   "source": [
    "from matplotlib.colors import LogNorm, SymLogNorm"
   ]
  },
  {
   "cell_type": "code",
   "execution_count": 253,
   "metadata": {},
   "outputs": [],
   "source": [
    "nparams = 10\n",
    "nsubj = 10\n",
    "\n",
    "betas = np.linspace(0.01, 10, nparams)\n",
    "lrs = np.linspace(0.001, 0.1, nparams)\n",
    "NLLS = np.zeros((nsubj, nparams, nparams))"
   ]
  },
  {
   "cell_type": "code",
   "execution_count": 256,
   "metadata": {},
   "outputs": [],
   "source": [
    "for subj in range(nsubj):\n",
    "    for ix, lr in enumerate(lrs): \n",
    "        for iy, beta in enumerate(betas):\n",
    "            NLLS[subj, ix, iy] = nll_per_model_per_subject(data.outcomes[subj],torch.tensor(data.true_Qinit[subj]), lr, beta, data.actions[subj].astype('int'))"
   ]
  },
  {
   "cell_type": "code",
   "execution_count": 279,
   "metadata": {},
   "outputs": [
    {
     "name": "stdout",
     "output_type": "stream",
     "text": [
      "true parameters: lr 0.0780375183440352, beta 9.636990977405283\n",
      "fit parameters: lr 0.08900000000000001, beta 8.89\n"
     ]
    }
   ],
   "source": [
    "SUBJ=8\n",
    "best_lr_idx, best_beta_idx =np.unravel_index(NLLS[SUBJ].argmin(), NLLS[SUBJ].shape)\n",
    "print('true parameters: lr {}, beta {}'.format(data.loc[SUBJ].true_lr, data.loc[SUBJ].true_beta))\n",
    "print('fit parameters: lr {}, beta {}'.format(lrs[best_beta_idx], betas[best_beta_idx]))"
   ]
  },
  {
   "cell_type": "code",
   "execution_count": 280,
   "metadata": {},
   "outputs": [
    {
     "data": {
      "image/png": "[encoded data removed]",
      "text/plain": [
       "<Figure size 500x500 with 2 Axes>"
      ]
     },
     "metadata": {},
     "output_type": "display_data"
    }
   ],
   "source": [
    "fig, ax = plt.subplots(1, 1, figsize=(5, 5), dpi=100)\n",
    "im = ax.matshow(NLLS[SUBJ], cmap='gray_r', extent=[0.001,0.1,0.001,10], aspect='auto',norm=LogNorm(vmin=NLLS[SUBJ].min(), vmax=NLLS[SUBJ].max()))\n",
    "ax.scatter(data.loc[SUBJ].true_lr, data.loc[SUBJ].true_beta, c='green', marker='*', s=100)\n",
    "ax.scatter(lrs[best_beta_idx], betas[best_beta_idx], c='red', marker='*', s=100)\n",
    "ax.set_ylabel(ylabel='beta', fontsize=15)\n",
    "ax.set_xlabel(xlabel='lr', fontsize=15)\n",
    "cbar=plt.colorbar(mappable=im, ax=ax)\n",
    "cbar.set_label('NLL', rotation=270, fontsize=15, labelpad=15)\n",
    "plt.show()"
   ]
  },
  {
   "cell_type": "raw",
   "metadata": {},
   "source": []
  },
  {
   "cell_type": "markdown",
   "metadata": {},
   "source": [
    "### compute NLL per subj across parameters (speed-up)"
   ]
  },
  {
   "cell_type": "code",
   "execution_count": 220,
   "metadata": {},
   "outputs": [],
   "source": [
    "q=torch.tensor([[0.5, 0.5],[0.5, 0.5],[0.5, 0.5]])"
   ]
  },
  {
   "cell_type": "code",
   "execution_count": 221,
   "metadata": {},
   "outputs": [],
   "source": [
    "lr = torch.tensor([0.1, 0.5, 2]).reshape(-1,1)\n",
    "beta= torch.tensor([1, 2, 3]).reshape(-1,1)"
   ]
  },
  {
   "cell_type": "code",
   "execution_count": 249,
   "metadata": {},
   "outputs": [],
   "source": [
    "def nll_per_subject(outcomes, qq, lr, beta, choice, ntrials=1000):\n",
    "    nll = 0.\n",
    "    for trial in range(ntrials):\n",
    "        a_t = choice[trial]\n",
    "        nll += -(qq[:, a_t].reshape(-1,1)*beta - np.log(np.exp(qq*beta).sum(1)).reshape(-1,1))\n",
    "        r_t = outcomes[trial][a_t]\n",
    "        c = (qq[:, a_t].reshape(-1,1)+(r_t-q[:, a_t]).reshape(-1,1)*lr).reshape(len(lr))\n",
    "        \n",
    "    return nll"
   ]
  },
  {
   "cell_type": "code",
   "execution_count": 252,
   "metadata": {},
   "outputs": [
    {
     "data": {
      "text/plain": [
       "tensor([[ 382.1781],\n",
       "        [ 182.5676],\n",
       "        [1539.0000]])"
      ]
     },
     "execution_count": 252,
     "metadata": {},
     "output_type": "execute_result"
    }
   ],
   "source": [
    "nll_per_subject(outcome, q, lr, beta, action)"
   ]
  },
  {
   "cell_type": "code",
   "execution_count": null,
   "metadata": {},
   "outputs": [],
   "source": []
  },
  {
   "cell_type": "code",
   "execution_count": null,
   "metadata": {},
   "outputs": [],
   "source": []
  },
  {
   "cell_type": "raw",
   "metadata": {},
   "source": []
  }
 ],
 "metadata": {
  "kernelspec": {
   "display_name": "Python 3",
   "language": "python",
   "name": "python3"
  },
  "language_info": {
   "codemirror_mode": {
    "name": "ipython",
    "version": 3
   },
   "file_extension": ".py",
   "mimetype": "text/x-python",
   "name": "python",
   "nbconvert_exporter": "python",
   "pygments_lexer": "ipython3",
   "version": "3.8.0"
  }
 },
 "nbformat": 4,
 "nbformat_minor": 4
}
